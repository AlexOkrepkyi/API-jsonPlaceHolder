{
 "cells": [
  {
   "cell_type": "code",
   "execution_count": 1,
   "metadata": {},
   "outputs": [],
   "source": [
    "import requests"
   ]
  },
  {
   "cell_type": "code",
   "execution_count": 2,
   "metadata": {},
   "outputs": [
    {
     "name": "stdout",
     "output_type": "stream",
     "text": [
      "<Response [204]>\n"
     ]
    }
   ],
   "source": [
    "url = 'http://jsonplaceholder.typicode.com/photos'\n",
    "\n",
    "# check for possible http options, if indicated\n",
    "print(requests.options(url))"
   ]
  },
  {
   "cell_type": "code",
   "execution_count": 3,
   "metadata": {},
   "outputs": [
    {
     "name": "stdout",
     "output_type": "stream",
     "text": [
      "It's alive! Yet.\n"
     ]
    }
   ],
   "source": [
    "# If the response will be successful (checks by raise_for_status),\n",
    "# no Exception will be raised\n",
    "\n",
    "try:\n",
    "    response = requests.get(url, timeout=(1, 5))\n",
    "    response.raise_for_status()\n",
    "except requests.exceptions.HTTPError as http_error: \n",
    "    print(f'HTTP error occurred: {http_error}') \n",
    "else:\n",
    "    print('It\\'s alive! Yet.')"
   ]
  },
  {
   "cell_type": "markdown",
   "metadata": {},
   "source": [
    "**STEP. Some data visualization options**"
   ]
  },
  {
   "cell_type": "code",
   "execution_count": 4,
   "metadata": {},
   "outputs": [],
   "source": [
    "# Provides access to the RAW BYTES of the response payload.\n",
    "# Since it provides a looong list of data, it is commented. \n",
    "# But you can uncomment it, would you like to see the way it works.\n",
    "\n",
    "#response.content\n",
    "\n",
    "\n",
    "# Provides the same data but as a STRING, commented for the same reason.\n",
    "\n",
    "#response.text\n",
    "\n",
    "\n",
    "# Convert all the data to the JSON format, which is quite readable\n",
    "\n",
    "response = response.json()\n",
    "\n",
    "# Well, commented because of momentum (mechanically)\n",
    "\n",
    "#response.headers"
   ]
  },
  {
   "cell_type": "markdown",
   "metadata": {},
   "source": [
    "**STEP. Find all the urls that are not unique**"
   ]
  },
  {
   "cell_type": "code",
   "execution_count": 5,
   "metadata": {},
   "outputs": [
    {
     "name": "stdout",
     "output_type": "stream",
     "text": [
      "Total urls: 5000\n",
      "Unique urls: 4996\n",
      "Non-unique urls: 4\n"
     ]
    }
   ],
   "source": [
    "url_list = []\n",
    "\n",
    "[url_list.append(photo['url']) for photo in response]\n",
    "    \n",
    "unique_url_list = set(url_list)\n",
    "\n",
    "print(f'Total urls: {len(url_list)}')\n",
    "print(f'Unique urls: {len(unique_url_list)}')\n",
    "print(f'Non-unique urls: {len(url_list) - len(unique_url_list)}')"
   ]
  },
  {
   "cell_type": "code",
   "execution_count": 6,
   "metadata": {},
   "outputs": [
    {
     "name": "stdout",
     "output_type": "stream",
     "text": [
      "https://via.placeholder.com/600/bb0db4\n",
      "https://via.placeholder.com/600/899781\n",
      "https://via.placeholder.com/600/205992\n",
      "https://via.placeholder.com/600/207d7e\n"
     ]
    }
   ],
   "source": [
    "# make a list of non_unique_urls\n",
    "\n",
    "unique_urls = []\n",
    "non_unique_urls = []\n",
    "\n",
    "for url in url_list:\n",
    "    if url not in unique_urls:\n",
    "        unique_urls.append(url)\n",
    "    else:\n",
    "        non_unique_urls.append(url)\n",
    "        print(url)"
   ]
  },
  {
   "cell_type": "code",
   "execution_count": 7,
   "metadata": {},
   "outputs": [
    {
     "name": "stdout",
     "output_type": "stream",
     "text": [
      "[291, 1252, 1503, 1758, 2235, 3432, 3482, 3830]\n"
     ]
    }
   ],
   "source": [
    "# make a list of photo indexes of non-uniques urls\n",
    "\n",
    "non_unique_indexes = []\n",
    "\n",
    "for url in enumerate(url_list):\n",
    "    if url[1] in non_unique_urls:\n",
    "        non_unique_indexes.append(url[0])\n",
    "        \n",
    "print(non_unique_indexes)"
   ]
  },
  {
   "cell_type": "code",
   "execution_count": 8,
   "metadata": {},
   "outputs": [
    {
     "name": "stdout",
     "output_type": "stream",
     "text": [
      "Album ID: 6 | ID is 292 | Title: impedit facilis nisi officia distinctio aliquid aut blanditiis |\n",
      "Album ID: 26 | ID is 1253 | Title: et ut rerum quo consequatur |\n",
      "Album ID: 31 | ID is 1504 | Title: qui ut facere perspiciatis nobis aut |\n",
      "Album ID: 36 | ID is 1759 | Title: voluptatem harum officia accusamus aspernatur |\n",
      "Album ID: 45 | ID is 2236 | Title: sed aperiam nihil itaque natus maxime |\n",
      "Album ID: 69 | ID is 3433 | Title: debitis consequatur est nobis |\n",
      "Album ID: 70 | ID is 3483 | Title: exercitationem odit quia alias nostrum voluptatibus suscipit |\n",
      "Album ID: 77 | ID is 3831 | Title: doloremque in provident |\n"
     ]
    }
   ],
   "source": [
    "# print album ID, ID and title of the photos with non-uniques urls\n",
    "\n",
    "non_unique_photos = []\n",
    "\n",
    "[non_unique_photos.append(response[index]) for index in non_unique_indexes]\n",
    "    \n",
    "for photo in non_unique_photos:\n",
    "    print('Album ID:', photo['albumId'], '|',\n",
    "         'ID is', photo['id'], '|',\n",
    "         'Title:', photo['title'], '|')"
   ]
  }
 ],
 "metadata": {
  "kernelspec": {
   "display_name": "Python 3",
   "language": "python",
   "name": "python3"
  },
  "language_info": {
   "codemirror_mode": {
    "name": "ipython",
    "version": 3
   },
   "file_extension": ".py",
   "mimetype": "text/x-python",
   "name": "python",
   "nbconvert_exporter": "python",
   "pygments_lexer": "ipython3",
   "version": "3.6.9"
  }
 },
 "nbformat": 4,
 "nbformat_minor": 4
}
